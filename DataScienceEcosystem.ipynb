{
 "cells": [
  {
   "cell_type": "markdown",
   "metadata": {},
   "source": [
    "<center>\n",
    "    <img src=\"https://cf-courses-data.s3.us.cloud-object-storage.appdomain.cloud/IBMDeveloperSkillsNetwork-DS0105EN-SkillsNetwork/labs/Module2/images/SN_web_lightmode.png\" width=\"300\" alt=\"cognitiveclass.ai logo\">\n",
    "</center>\n"
   ]
  },
  {
   "cell_type": "markdown",
   "metadata": {},
   "source": [
    "#### 1) Add your code below following the instructions given in the course\n"
   ]
  },
  {
   "cell_type": "markdown",
   "metadata": {
    "tags": []
   },
   "source": [
    "### 2) Data Science Tools and Ecosystem"
   ]
  },
  {
   "cell_type": "markdown",
   "metadata": {
    "tags": []
   },
   "source": [
    "### 3) In this notebook, Data Science Tools and Ecosystem are Summarized "
   ]
  },
  {
   "cell_type": "markdown",
   "metadata": {},
   "source": [
    "**10) Objectives:**\n",
    "### 1. We will summarize popular languages.\n",
    "### 2. We will describe certain libraries.\n",
    "### 3. We will perform some arithmatic.\n",
    "### 4. We will convert minutes to hours.\n",
    "### 5. We will describe Data Science Tools."
   ]
  },
  {
   "cell_type": "markdown",
   "metadata": {},
   "source": [
    "### 4) Some of the popular languages that Data Scientists use are:\n",
    "### 1.Python\n",
    "### 2.R\n",
    "### 3.Julia"
   ]
  },
  {
   "cell_type": "markdown",
   "metadata": {
    "tags": []
   },
   "source": [
    "### 5) Some of the commonly used libraries used by Data Scientists include:\n",
    "### 1.ggplot \n",
    "### 2.Seaborn \n",
    "### 3.Pandas"
   ]
  },
  {
   "cell_type": "markdown",
   "metadata": {
    "tags": []
   },
   "source": [
    "### 6) Data Science Tools\n",
    "\n",
    "| Data Science Tools  |\n",
    "| ------------------- |\n",
    "| Java                |\n",
    "| Apache Subversion   |\n",
    "| GitHub              |\n",
    "\n",
    "\n"
   ]
  },
  {
   "cell_type": "markdown",
   "metadata": {},
   "source": [
    "### 7) Below are a few examples of evaluating arithmetic expressions in Python"
   ]
  },
  {
   "cell_type": "code",
   "execution_count": 21,
   "metadata": {
    "tags": []
   },
   "outputs": [
    {
     "name": "stdout",
     "output_type": "stream",
     "text": [
      "This is a simple arithmetic expression to multiply and then add integers\n",
      "(3*4)+5\n",
      "17\n"
     ]
    }
   ],
   "source": [
    "print(\"8)\")\n",
    "print(\"This is a simple arithmetic expression to multiply and then add integers\")\n",
    "print(\"(3*4)+5\")\n",
    "x=(3*4)+5\n",
    "print(x)"
   ]
  },
  {
   "cell_type": "code",
   "execution_count": 24,
   "metadata": {
    "tags": []
   },
   "outputs": [
    {
     "name": "stdout",
     "output_type": "stream",
     "text": [
      "9)\n",
      "This will convert 200 minutes to hours by diving by 60\n",
      "3.3333333333333335\n"
     ]
    }
   ],
   "source": [
    "print(\"9)\")\n",
    "print(\"This will convert 200 minutes to hours by diving by 60\")\n",
    "y=200/60\n",
    "print(y)"
   ]
  },
  {
   "cell_type": "markdown",
   "metadata": {},
   "source": [
    "## 11) Author: Dressel Eduardo Cruz Ruiz "
   ]
  },
  {
   "cell_type": "code",
   "execution_count": null,
   "metadata": {},
   "outputs": [],
   "source": []
  }
 ],
 "metadata": {
  "kernelspec": {
   "display_name": "Python",
   "language": "python",
   "name": "conda-env-python-py"
  },
  "language_info": {
   "codemirror_mode": {
    "name": "ipython",
    "version": 3
   },
   "file_extension": ".py",
   "mimetype": "text/x-python",
   "name": "python",
   "nbconvert_exporter": "python",
   "pygments_lexer": "ipython3",
   "version": "3.7.12"
  }
 },
 "nbformat": 4,
 "nbformat_minor": 4
}
